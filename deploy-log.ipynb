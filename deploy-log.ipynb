{
 "cells": [
  {
   "cell_type": "code",
   "execution_count": 1,
   "id": "11c77df8",
   "metadata": {},
   "outputs": [],
   "source": [
    "import numpy as np\n",
    "import pandas as pd\n",
    "import streamlit as st\n",
    "from pickle import load\n",
    "import pickle"
   ]
  },
  {
   "cell_type": "code",
   "execution_count": 2,
   "id": "74ff41d6",
   "metadata": {},
   "outputs": [
    {
     "name": "stderr",
     "output_type": "stream",
     "text": [
      "2024-06-17 19:20:18.008 \n",
      "  \u001b[33m\u001b[1mWarning:\u001b[0m to view this Streamlit app on a browser, run it with the following\n",
      "  command:\n",
      "\n",
      "    streamlit run C:\\ProgramData\\anaconda3\\Lib\\site-packages\\ipykernel_launcher.py [ARGUMENTS]\n"
     ]
    },
    {
     "data": {
      "text/plain": [
       "DeltaGenerator(_root_container=1, _parent=DeltaGenerator())"
      ]
     },
     "execution_count": 2,
     "metadata": {},
     "output_type": "execute_result"
    }
   ],
   "source": [
    "st.write('Titanic survuval Prediction')\n",
    "st.sidebar.header('Parameter Input')"
   ]
  },
  {
   "cell_type": "code",
   "execution_count": 3,
   "id": "0f4c85d4",
   "metadata": {},
   "outputs": [],
   "source": [
    "def input_feature():\n",
    "    Age = st.sidebar.number_input('Insert Age')\n",
    "    Parch =st.sidebar.number_input('Insert Parch')\n",
    "    Sex_male = st.sidebar.selectbox('sex',('0','1'))\n",
    "    Sex_female = st.sidebar.selectbox('sex',('1','0'))\n",
    "    Embarked_C = st.sidebar.selectbox('Embarked_c',('0','1'))\n",
    "    Embarked_Q = st.sidebar.selectbox('Embarked_Q',('0','1'))\n",
    "    Embarked_S = st.sidebar.selectbox('Embarked_S',('0','1'))\n",
    "    data ={'Age':Age,'Parch':Parch,'Sex_female':Sex_female,'Sex_male':Sex_male,'Embarked_C':Embarked_C,'Embarked_Q':Embarked_Q,'Embarked_S':Embarked_S}\n",
    "    feature = pd.DataFrame(data,index=[0])\n",
    "    return feature\n",
    "df = input_feature()\n",
    "st.subheader('user inputs parameters')\n",
    "st.write(df)"
   ]
  },
  {
   "cell_type": "code",
   "execution_count": 4,
   "id": "8b6d8710",
   "metadata": {},
   "outputs": [],
   "source": [
    "Lmodel=load(open("survived.pkl",'rb'))\n",
    "Prediction = Lmodel.predict(df)\n",
    "predict_prob = Lmodel.predict_proba(df)\n",
    "st.subheader('predicted results')\n",
    "st.write('Not Survived' if Prediction[0]==0 else\n",
    "         'Survived')\n",
    "st.subheader('prediction probability')\n",
    "st.write(predict_prob)"
   ]
  },
  {
   "cell_type": "code",
   "execution_count": null,
   "id": "ffd03fd0",
   "metadata": {},
   "outputs": [],
   "source": []
  },
  {
   "cell_type": "code",
   "execution_count": null,
   "id": "10b47c68",
   "metadata": {},
   "outputs": [],
   "source": []
  }
 ],
 "metadata": {
  "kernelspec": {
   "display_name": "Python 3 (ipykernel)",
   "language": "python",
   "name": "python3"
  },
  "language_info": {
   "codemirror_mode": {
    "name": "ipython",
    "version": 3
   },
   "file_extension": ".py",
   "mimetype": "text/x-python",
   "name": "python",
   "nbconvert_exporter": "python",
   "pygments_lexer": "ipython3",
   "version": "3.11.7"
  }
 },
 "nbformat": 4,
 "nbformat_minor": 5
}
